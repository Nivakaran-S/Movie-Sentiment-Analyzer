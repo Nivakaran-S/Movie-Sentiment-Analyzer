{
  "cells": [
    {
      "cell_type": "markdown",
      "metadata": {},
      "source": [
        "## Making Predictions"
      ]
    },
    {
      "cell_type": "code",
      "execution_count": 1,
      "metadata": {
        "id": "MSo-DYZgiXSp"
      },
      "outputs": [],
      "source": [
        "## Importing the libraries\n",
        "import numpy as np\n",
        "import tensorflow as tf\n",
        "from tensorflow.keras.datasets import imdb\n",
        "from tensorflow.keras.preprocessing import sequence\n",
        "from tensorflow.keras.models import load_model\n",
        "\n",
        "\n"
      ]
    },
    {
      "cell_type": "code",
      "execution_count": 2,
      "metadata": {
        "colab": {
          "base_uri": "https://localhost:8080/"
        },
        "id": "Lak3EbBTiuz7",
        "outputId": "ecbab21c-4cab-49ce-b0b2-d7634b907b68"
      },
      "outputs": [
        {
          "name": "stdout",
          "output_type": "stream",
          "text": [
            "Downloading data from https://storage.googleapis.com/tensorflow/tf-keras-datasets/imdb_word_index.json\n",
            "\u001b[1m1641221/1641221\u001b[0m \u001b[32m━━━━━━━━━━━━━━━━━━━━\u001b[0m\u001b[37m\u001b[0m \u001b[1m1s\u001b[0m 0us/step\n"
          ]
        }
      ],
      "source": [
        "## Load the IMDB dataset word index\n",
        "word_index = imdb.get_word_index()\n",
        "reverse_word_index = {value:key for key, value in word_index.items()}\n",
        "\n"
      ]
    },
    {
      "cell_type": "code",
      "execution_count": null,
      "metadata": {
        "id": "f3D0ZwfKi80n"
      },
      "outputs": [],
      "source": [
        "## Load the pre-trained model with ReLU activation\n",
        "model=load_model('simple_rnn_imdb.h5')\n",
        "model.summary()"
      ]
    },
    {
      "cell_type": "code",
      "execution_count": 3,
      "metadata": {
        "id": "Q5BfYe1cjO0K"
      },
      "outputs": [],
      "source": [
        "# model.get_weights()\n",
        "# Helper functions\n",
        "# 1. Function for decoding reviews\n",
        "def decode_reviews(encoded_review):\n",
        "  return ' '.join([reverse_word_index.get(i - 3, \"?\") for i in encoded_review])\n",
        "\n",
        "# 2. Function to preprocess user input\n",
        "def preprocess_text(text):\n",
        "  words = text.lower().split()\n",
        "  encoded_review = [word_index.get(word, 2) + 3 for word in words]\n",
        "  padded_review = sequence.pad_sequences([encoded_review], maxlen=500)\n",
        "  return padded_review\n",
        "\n"
      ]
    },
    {
      "cell_type": "code",
      "execution_count": null,
      "metadata": {
        "id": "vrPEcIC_kB3G"
      },
      "outputs": [],
      "source": [
        "## Prediction function\n",
        "def predict_sentiment(review):\n",
        "  preprocessed_input = preprocess_text(review)\n",
        "\n",
        "  prediction=model.predict(preprocessed_input)\n",
        "  sentiment= 'Positive' if prediction[0][0] > 0.5 else 'Negative'\n",
        "\n",
        "  return sentiment, prediction[0][0]\n"
      ]
    },
    {
      "cell_type": "code",
      "execution_count": null,
      "metadata": {
        "id": "uVmSNX-rk9Bd"
      },
      "outputs": [],
      "source": [
        "\n",
        "# User input and prediction\n",
        "# Example review for prediction\n",
        "example_review=\"This movie was fantastic! The acting was great and the plot was thrilling\"\n",
        "\n",
        "sentiment, score = predict_sentiment(example_review)\n",
        "\n",
        "print(f\"Review: {example_review}\")\n",
        "print(f\"Sentiment: {sentiment}\")\n",
        "print(f\"Prediciton score: {score}\")\n"
      ]
    }
  ],
  "metadata": {
    "colab": {
      "provenance": []
    },
    "kernelspec": {
      "display_name": "Python 3",
      "name": "python3"
    },
    "language_info": {
      "name": "python"
    }
  },
  "nbformat": 4,
  "nbformat_minor": 0
}
